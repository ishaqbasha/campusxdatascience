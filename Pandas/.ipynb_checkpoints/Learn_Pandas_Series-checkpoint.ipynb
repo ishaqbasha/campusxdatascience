{
 "cells": [
  {
   "cell_type": "markdown",
   "id": "f5290ba0",
   "metadata": {},
   "source": [
    "\n",
    "# Pandas"
   ]
  },
  {
   "cell_type": "code",
   "execution_count": 1,
   "id": "616ac9b4",
   "metadata": {},
   "outputs": [],
   "source": [
    "import pandas as pd\n",
    "import numpy as np"
   ]
  },
  {
   "cell_type": "code",
   "execution_count": 3,
   "id": "e3f727bb",
   "metadata": {},
   "outputs": [],
   "source": [
    "#basic series in pandas\n",
    "\n",
    "ser = pd.Series(['India', 'Sri Lanka', 'Pakisthan'])"
   ]
  },
  {
   "cell_type": "code",
   "execution_count": 4,
   "id": "53524199",
   "metadata": {},
   "outputs": [
    {
     "data": {
      "text/plain": [
       "0        India\n",
       "1    Sri Lanka\n",
       "2    Pakisthan\n",
       "dtype: object"
      ]
     },
     "execution_count": 4,
     "metadata": {},
     "output_type": "execute_result"
    }
   ],
   "source": [
    "ser"
   ]
  },
  {
   "cell_type": "code",
   "execution_count": 5,
   "id": "8a754663",
   "metadata": {},
   "outputs": [],
   "source": [
    "subjects = ['Hindi', 'telugu', 'science', 'Social', 'Maths']\n",
    "marks = np.array([98, 76, 66, 34, 100])"
   ]
  },
  {
   "cell_type": "code",
   "execution_count": 10,
   "id": "b326b208",
   "metadata": {},
   "outputs": [],
   "source": [
    "score = pd.Series(marks, index = subjects, name = \"Ishaq's marks in 10th standard\")"
   ]
  },
  {
   "cell_type": "code",
   "execution_count": 11,
   "id": "7f89df7b",
   "metadata": {},
   "outputs": [
    {
     "data": {
      "text/plain": [
       "Hindi       98\n",
       "telugu      76\n",
       "science     66\n",
       "Social      34\n",
       "Maths      100\n",
       "Name: Ishaq's marks in 10th standard, dtype: int64"
      ]
     },
     "execution_count": 11,
     "metadata": {},
     "output_type": "execute_result"
    }
   ],
   "source": [
    "score"
   ]
  },
  {
   "cell_type": "code",
   "execution_count": 17,
   "id": "659db8af",
   "metadata": {},
   "outputs": [],
   "source": [
    "marks = {'Hindi': [1,2,3],\n",
    "        'Physics': 120\n",
    "        }"
   ]
  },
  {
   "cell_type": "code",
   "execution_count": 19,
   "id": "441a0d91",
   "metadata": {},
   "outputs": [
    {
     "data": {
      "text/plain": [
       "Hindi      [1, 2, 3]\n",
       "Physics          120\n",
       "Name: marks with dictionary, dtype: object"
      ]
     },
     "execution_count": 19,
     "metadata": {},
     "output_type": "execute_result"
    }
   ],
   "source": [
    "pd.Series(marks, name='marks with dictionary')"
   ]
  },
  {
   "cell_type": "markdown",
   "id": "b4c24a0e",
   "metadata": {},
   "source": [
    "## Pandas Series attributes"
   ]
  },
  {
   "cell_type": "code",
   "execution_count": 21,
   "id": "bef66adc",
   "metadata": {},
   "outputs": [
    {
     "data": {
      "text/plain": [
       "Hindi       98\n",
       "telugu      76\n",
       "science     66\n",
       "Social      34\n",
       "Maths      100\n",
       "Name: Ishaq's marks in 10th standard, dtype: int64"
      ]
     },
     "execution_count": 21,
     "metadata": {},
     "output_type": "execute_result"
    }
   ],
   "source": [
    "score\n"
   ]
  },
  {
   "cell_type": "code",
   "execution_count": 22,
   "id": "fe3b65b4",
   "metadata": {},
   "outputs": [
    {
     "data": {
      "text/plain": [
       "\"Ishaq's marks in 10th standard\""
      ]
     },
     "execution_count": 22,
     "metadata": {},
     "output_type": "execute_result"
    }
   ],
   "source": [
    "#name\n",
    "\n",
    "score.name"
   ]
  },
  {
   "cell_type": "code",
   "execution_count": 24,
   "id": "90de2a6a",
   "metadata": {},
   "outputs": [
    {
     "data": {
      "text/plain": [
       "dtype('int64')"
      ]
     },
     "execution_count": 24,
     "metadata": {},
     "output_type": "execute_result"
    }
   ],
   "source": [
    "#dtype\n",
    "\n",
    "score.dtype"
   ]
  },
  {
   "cell_type": "code",
   "execution_count": 26,
   "id": "24c816ef",
   "metadata": {},
   "outputs": [
    {
     "data": {
      "text/plain": [
       "True"
      ]
     },
     "execution_count": 26,
     "metadata": {},
     "output_type": "execute_result"
    }
   ],
   "source": [
    "# is unique\n",
    "\n",
    "score.is_unique"
   ]
  },
  {
   "cell_type": "code",
   "execution_count": 29,
   "id": "fc519fc1",
   "metadata": {},
   "outputs": [
    {
     "data": {
      "text/plain": [
       "Index(['Hindi', 'telugu', 'science', 'Social', 'Maths'], dtype='object')"
      ]
     },
     "execution_count": 29,
     "metadata": {},
     "output_type": "execute_result"
    }
   ],
   "source": [
    "# Index\n",
    "score.index\n"
   ]
  },
  {
   "cell_type": "code",
   "execution_count": 30,
   "id": "15017003",
   "metadata": {},
   "outputs": [],
   "source": [
    "runs_series = pd.Series(np.array([12,45,34,56]))"
   ]
  },
  {
   "cell_type": "code",
   "execution_count": 32,
   "id": "2e5060c9",
   "metadata": {},
   "outputs": [
    {
     "data": {
      "text/plain": [
       "RangeIndex(start=0, stop=4, step=1)"
      ]
     },
     "execution_count": 32,
     "metadata": {},
     "output_type": "execute_result"
    }
   ],
   "source": [
    "runs_series.index"
   ]
  },
  {
   "cell_type": "code",
   "execution_count": 33,
   "id": "fcb887d4",
   "metadata": {},
   "outputs": [
    {
     "data": {
      "text/plain": [
       "pandas.core.indexes.range.RangeIndex"
      ]
     },
     "execution_count": 33,
     "metadata": {},
     "output_type": "execute_result"
    }
   ],
   "source": [
    "type(runs_series.index)"
   ]
  },
  {
   "cell_type": "code",
   "execution_count": 37,
   "id": "ad343b81",
   "metadata": {},
   "outputs": [
    {
     "data": {
      "text/plain": [
       "array([12, 45, 34, 56])"
      ]
     },
     "execution_count": 37,
     "metadata": {},
     "output_type": "execute_result"
    }
   ],
   "source": [
    "# values\n",
    "runs_series.values"
   ]
  },
  {
   "cell_type": "code",
   "execution_count": 38,
   "id": "3690bf8c",
   "metadata": {},
   "outputs": [
    {
     "data": {
      "text/plain": [
       "{'Hindi': [1, 2, 3], 'Physics': 120}"
      ]
     },
     "execution_count": 38,
     "metadata": {},
     "output_type": "execute_result"
    }
   ],
   "source": [
    "marks"
   ]
  },
  {
   "cell_type": "code",
   "execution_count": 40,
   "id": "3ffa1579",
   "metadata": {},
   "outputs": [
    {
     "data": {
      "text/plain": [
       "dict_values([[1, 2, 3], 120])"
      ]
     },
     "execution_count": 40,
     "metadata": {},
     "output_type": "execute_result"
    }
   ],
   "source": [
    "marks.values()"
   ]
  },
  {
   "cell_type": "markdown",
   "id": "43466be8",
   "metadata": {},
   "source": [
    "## Read CSV"
   ]
  },
  {
   "cell_type": "code",
   "execution_count": null,
   "id": "7ae18393",
   "metadata": {},
   "outputs": [],
   "source": [
    "pd.read_csv('')"
   ]
  }
 ],
 "metadata": {
  "kernelspec": {
   "display_name": "Python 3 (ipykernel)",
   "language": "python",
   "name": "python3"
  },
  "language_info": {
   "codemirror_mode": {
    "name": "ipython",
    "version": 3
   },
   "file_extension": ".py",
   "mimetype": "text/x-python",
   "name": "python",
   "nbconvert_exporter": "python",
   "pygments_lexer": "ipython3",
   "version": "3.9.12"
  }
 },
 "nbformat": 4,
 "nbformat_minor": 5
}
