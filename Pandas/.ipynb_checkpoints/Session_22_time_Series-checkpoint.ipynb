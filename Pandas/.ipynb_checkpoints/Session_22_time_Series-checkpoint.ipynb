{
 "cells": [
  {
   "cell_type": "code",
   "execution_count": 1,
   "id": "65441f98",
   "metadata": {},
   "outputs": [],
   "source": [
    "import numpy as np\n",
    "import pandas as pd"
   ]
  },
  {
   "cell_type": "code",
   "execution_count": 2,
   "id": "27d19c27",
   "metadata": {},
   "outputs": [
    {
     "data": {
      "text/plain": [
       "Timestamp('2023-02-03 00:00:00')"
      ]
     },
     "execution_count": 2,
     "metadata": {},
     "output_type": "execute_result"
    }
   ],
   "source": [
    "pd.Timestamp('02-03-2023')"
   ]
  },
  {
   "cell_type": "code",
   "execution_count": 9,
   "id": "306b8b63",
   "metadata": {},
   "outputs": [
    {
     "data": {
      "text/plain": [
       "Timestamp('2023-01-05 06:00:00')"
      ]
     },
     "execution_count": 9,
     "metadata": {},
     "output_type": "execute_result"
    }
   ],
   "source": [
    "pd.Timestamp('5th of jan 2023 at 06:00AM')"
   ]
  },
  {
   "cell_type": "code",
   "execution_count": 10,
   "id": "ec111a84",
   "metadata": {},
   "outputs": [
    {
     "data": {
      "text/plain": [
       "pandas._libs.tslibs.timestamps.Timestamp"
      ]
     },
     "execution_count": 10,
     "metadata": {},
     "output_type": "execute_result"
    }
   ],
   "source": [
    "type(pd.Timestamp('5th of jan 2023 at 06:00AM'))"
   ]
  },
  {
   "cell_type": "code",
   "execution_count": 13,
   "id": "5ba94bae",
   "metadata": {},
   "outputs": [],
   "source": [
    "import datetime as dt\n",
    "x = dt.datetime(2023, 10, 23, 9, 21, 16)"
   ]
  },
  {
   "cell_type": "code",
   "execution_count": 14,
   "id": "454ee2d5",
   "metadata": {},
   "outputs": [
    {
     "data": {
      "text/plain": [
       "10"
      ]
     },
     "execution_count": 14,
     "metadata": {},
     "output_type": "execute_result"
    }
   ],
   "source": [
    "x.month"
   ]
  },
  {
   "cell_type": "code",
   "execution_count": 16,
   "id": "8b90e0d5",
   "metadata": {},
   "outputs": [
    {
     "data": {
      "text/plain": [
       "21"
      ]
     },
     "execution_count": 16,
     "metadata": {},
     "output_type": "execute_result"
    }
   ],
   "source": [
    "x.minute"
   ]
  },
  {
   "cell_type": "code",
   "execution_count": 17,
   "id": "306d53d7",
   "metadata": {},
   "outputs": [],
   "source": [
    "pd_time = pd.Timestamp(x)"
   ]
  },
  {
   "cell_type": "code",
   "execution_count": 19,
   "id": "641af66a",
   "metadata": {},
   "outputs": [
    {
     "data": {
      "text/plain": [
       "23"
      ]
     },
     "execution_count": 19,
     "metadata": {},
     "output_type": "execute_result"
    }
   ],
   "source": [
    "pd_time.day"
   ]
  },
  {
   "cell_type": "markdown",
   "id": "83cb94c6",
   "metadata": {},
   "source": [
    "# date time in numpy"
   ]
  },
  {
   "cell_type": "code",
   "execution_count": 25,
   "id": "58c072ce",
   "metadata": {},
   "outputs": [],
   "source": [
    "date = np.array('2023-12-24', dtype = 'datetime64')"
   ]
  },
  {
   "cell_type": "code",
   "execution_count": 26,
   "id": "5cc97275",
   "metadata": {},
   "outputs": [
    {
     "data": {
      "text/plain": [
       "array('2023-12-24', dtype='datetime64[D]')"
      ]
     },
     "execution_count": 26,
     "metadata": {},
     "output_type": "execute_result"
    }
   ],
   "source": [
    "date"
   ]
  },
  {
   "cell_type": "code",
   "execution_count": 28,
   "id": "b2b20c85",
   "metadata": {},
   "outputs": [
    {
     "data": {
      "text/plain": [
       "array('2023-12-24', dtype='datetime64[D]')"
      ]
     },
     "execution_count": 28,
     "metadata": {},
     "output_type": "execute_result"
    }
   ],
   "source": [
    "date.view()"
   ]
  },
  {
   "cell_type": "code",
   "execution_count": 29,
   "id": "7b8b9bb9",
   "metadata": {},
   "outputs": [
    {
     "data": {
      "text/plain": [
       "numpy.datetime64('2023-12-26')"
      ]
     },
     "execution_count": 29,
     "metadata": {},
     "output_type": "execute_result"
    }
   ],
   "source": [
    "date+2"
   ]
  },
  {
   "cell_type": "code",
   "execution_count": 34,
   "id": "4a8335ab",
   "metadata": {},
   "outputs": [
    {
     "data": {
      "text/plain": [
       "numpy.datetime64('2024-01-02')"
      ]
     },
     "execution_count": 34,
     "metadata": {},
     "output_type": "execute_result"
    }
   ],
   "source": [
    "date+9"
   ]
  },
  {
   "cell_type": "markdown",
   "id": "f6b4c3c5",
   "metadata": {},
   "source": [
    "# date time index"
   ]
  },
  {
   "cell_type": "code",
   "execution_count": 35,
   "id": "e6fef444",
   "metadata": {},
   "outputs": [],
   "source": [
    "# Collection of data time index"
   ]
  },
  {
   "cell_type": "code",
   "execution_count": 40,
   "id": "a71c2443",
   "metadata": {},
   "outputs": [],
   "source": [
    "temp_index = pd.DatetimeIndex(['2023-02-13', '2014-01-14'])"
   ]
  },
  {
   "cell_type": "code",
   "execution_count": 41,
   "id": "b33df4cc",
   "metadata": {},
   "outputs": [
    {
     "data": {
      "text/plain": [
       "pandas.core.indexes.datetimes.DatetimeIndex"
      ]
     },
     "execution_count": 41,
     "metadata": {},
     "output_type": "execute_result"
    }
   ],
   "source": [
    "type(temp_index)"
   ]
  },
  {
   "cell_type": "code",
   "execution_count": 43,
   "id": "13191ba0",
   "metadata": {},
   "outputs": [
    {
     "data": {
      "text/plain": [
       "Int64Index([2023, 2014], dtype='int64')"
      ]
     },
     "execution_count": 43,
     "metadata": {},
     "output_type": "execute_result"
    }
   ],
   "source": [
    "temp_index.year"
   ]
  },
  {
   "cell_type": "code",
   "execution_count": 45,
   "id": "92f7f7f2",
   "metadata": {},
   "outputs": [],
   "source": [
    "temp_s = pd.Series([1,2], index=temp_index)"
   ]
  },
  {
   "cell_type": "code",
   "execution_count": 46,
   "id": "61599afe",
   "metadata": {},
   "outputs": [
    {
     "data": {
      "text/plain": [
       "2023-02-13    1\n",
       "2014-01-14    2\n",
       "dtype: int64"
      ]
     },
     "execution_count": 46,
     "metadata": {},
     "output_type": "execute_result"
    }
   ],
   "source": [
    "temp_s"
   ]
  },
  {
   "cell_type": "markdown",
   "id": "59e8cec5",
   "metadata": {},
   "source": [
    "# date_range funciton"
   ]
  },
  {
   "cell_type": "code",
   "execution_count": 47,
   "id": "d906ed35",
   "metadata": {},
   "outputs": [
    {
     "data": {
      "text/plain": [
       "DatetimeIndex(['2023-01-01', '2023-01-02', '2023-01-03', '2023-01-04',\n",
       "               '2023-01-05', '2023-01-06', '2023-01-07', '2023-01-08',\n",
       "               '2023-01-09', '2023-01-10', '2023-01-11', '2023-01-12',\n",
       "               '2023-01-13', '2023-01-14', '2023-01-15', '2023-01-16',\n",
       "               '2023-01-17', '2023-01-18', '2023-01-19', '2023-01-20',\n",
       "               '2023-01-21', '2023-01-22', '2023-01-23', '2023-01-24',\n",
       "               '2023-01-25', '2023-01-26', '2023-01-27', '2023-01-28',\n",
       "               '2023-01-29', '2023-01-30', '2023-01-31', '2023-02-01'],\n",
       "              dtype='datetime64[ns]', freq='D')"
      ]
     },
     "execution_count": 47,
     "metadata": {},
     "output_type": "execute_result"
    }
   ],
   "source": [
    "pd.date_range(start = '2023/1/1', end = '2023/2/1', freq='1D')"
   ]
  },
  {
   "cell_type": "code",
   "execution_count": 48,
   "id": "21e63e7e",
   "metadata": {},
   "outputs": [
    {
     "data": {
      "text/plain": [
       "DatetimeIndex(['2023-01-01', '2023-01-03', '2023-01-05', '2023-01-07',\n",
       "               '2023-01-09', '2023-01-11', '2023-01-13', '2023-01-15',\n",
       "               '2023-01-17', '2023-01-19', '2023-01-21', '2023-01-23',\n",
       "               '2023-01-25', '2023-01-27', '2023-01-29', '2023-01-31'],\n",
       "              dtype='datetime64[ns]', freq='2D')"
      ]
     },
     "execution_count": 48,
     "metadata": {},
     "output_type": "execute_result"
    }
   ],
   "source": [
    "pd.date_range(start = '2023/1/1', end = '2023/2/1', freq='2D')"
   ]
  },
  {
   "cell_type": "code",
   "execution_count": 49,
   "id": "1a03de2b",
   "metadata": {},
   "outputs": [
    {
     "data": {
      "text/plain": [
       "DatetimeIndex(['2023-01-02', '2023-01-03', '2023-01-04', '2023-01-05',\n",
       "               '2023-01-06', '2023-01-09', '2023-01-10', '2023-01-11',\n",
       "               '2023-01-12', '2023-01-13', '2023-01-16', '2023-01-17',\n",
       "               '2023-01-18', '2023-01-19', '2023-01-20', '2023-01-23',\n",
       "               '2023-01-24', '2023-01-25', '2023-01-26', '2023-01-27',\n",
       "               '2023-01-30', '2023-01-31', '2023-02-01'],\n",
       "              dtype='datetime64[ns]', freq='B')"
      ]
     },
     "execution_count": 49,
     "metadata": {},
     "output_type": "execute_result"
    }
   ],
   "source": [
    "pd.date_range(start = '2023/1/1', end = '2023/2/1', freq='B')"
   ]
  },
  {
   "cell_type": "code",
   "execution_count": 50,
   "id": "b34f0fc3",
   "metadata": {},
   "outputs": [
    {
     "data": {
      "text/plain": [
       "DatetimeIndex(['2023-01-01', '2023-01-08', '2023-01-15', '2023-01-22',\n",
       "               '2023-01-29'],\n",
       "              dtype='datetime64[ns]', freq='W-SUN')"
      ]
     },
     "execution_count": 50,
     "metadata": {},
     "output_type": "execute_result"
    }
   ],
   "source": [
    "pd.date_range(start = '2023/1/1', end = '2023/2/1', freq='W')"
   ]
  },
  {
   "cell_type": "code",
   "execution_count": 51,
   "id": "5cc245ea",
   "metadata": {},
   "outputs": [
    {
     "data": {
      "text/plain": [
       "DatetimeIndex(['2023-01-04', '2023-01-11', '2023-01-18', '2023-01-25',\n",
       "               '2023-02-01'],\n",
       "              dtype='datetime64[ns]', freq='W-WED')"
      ]
     },
     "execution_count": 51,
     "metadata": {},
     "output_type": "execute_result"
    }
   ],
   "source": [
    "pd.date_range(start = '2023/1/1', end = '2023/2/1', freq='W-WED')"
   ]
  },
  {
   "cell_type": "code",
   "execution_count": 52,
   "id": "d53a72d2",
   "metadata": {},
   "outputs": [
    {
     "data": {
      "text/plain": [
       "DatetimeIndex(['2023-01-01 00:00:00', '2023-01-01 01:00:00',\n",
       "               '2023-01-01 02:00:00', '2023-01-01 03:00:00',\n",
       "               '2023-01-01 04:00:00', '2023-01-01 05:00:00',\n",
       "               '2023-01-01 06:00:00', '2023-01-01 07:00:00',\n",
       "               '2023-01-01 08:00:00', '2023-01-01 09:00:00',\n",
       "               ...\n",
       "               '2023-01-31 15:00:00', '2023-01-31 16:00:00',\n",
       "               '2023-01-31 17:00:00', '2023-01-31 18:00:00',\n",
       "               '2023-01-31 19:00:00', '2023-01-31 20:00:00',\n",
       "               '2023-01-31 21:00:00', '2023-01-31 22:00:00',\n",
       "               '2023-01-31 23:00:00', '2023-02-01 00:00:00'],\n",
       "              dtype='datetime64[ns]', length=745, freq='H')"
      ]
     },
     "execution_count": 52,
     "metadata": {},
     "output_type": "execute_result"
    }
   ],
   "source": [
    "pd.date_range(start = '2023/1/1', end = '2023/2/1', freq='H')"
   ]
  },
  {
   "cell_type": "code",
   "execution_count": 53,
   "id": "568fc8e1",
   "metadata": {},
   "outputs": [
    {
     "data": {
      "text/plain": [
       "DatetimeIndex(['2023-01-01 00:00:00', '2023-01-01 04:00:00',\n",
       "               '2023-01-01 08:00:00', '2023-01-01 12:00:00',\n",
       "               '2023-01-01 16:00:00', '2023-01-01 20:00:00',\n",
       "               '2023-01-02 00:00:00', '2023-01-02 04:00:00',\n",
       "               '2023-01-02 08:00:00', '2023-01-02 12:00:00',\n",
       "               ...\n",
       "               '2023-01-30 12:00:00', '2023-01-30 16:00:00',\n",
       "               '2023-01-30 20:00:00', '2023-01-31 00:00:00',\n",
       "               '2023-01-31 04:00:00', '2023-01-31 08:00:00',\n",
       "               '2023-01-31 12:00:00', '2023-01-31 16:00:00',\n",
       "               '2023-01-31 20:00:00', '2023-02-01 00:00:00'],\n",
       "              dtype='datetime64[ns]', length=187, freq='4H')"
      ]
     },
     "execution_count": 53,
     "metadata": {},
     "output_type": "execute_result"
    }
   ],
   "source": [
    "pd.date_range(start = '2023/1/1', end = '2023/2/1', freq='4H')"
   ]
  },
  {
   "cell_type": "code",
   "execution_count": 54,
   "id": "f399ad00",
   "metadata": {},
   "outputs": [
    {
     "data": {
      "text/plain": [
       "DatetimeIndex(['2023-01-31', '2023-02-28', '2023-03-31', '2023-04-30',\n",
       "               '2023-05-31', '2023-06-30', '2023-07-31', '2023-08-31',\n",
       "               '2023-09-30', '2023-10-31', '2023-11-30', '2023-12-31',\n",
       "               '2024-01-31', '2024-02-29', '2024-03-31', '2024-04-30',\n",
       "               '2024-05-31', '2024-06-30', '2024-07-31', '2024-08-31',\n",
       "               '2024-09-30', '2024-10-31', '2024-11-30', '2024-12-31',\n",
       "               '2025-01-31'],\n",
       "              dtype='datetime64[ns]', freq='M')"
      ]
     },
     "execution_count": 54,
     "metadata": {},
     "output_type": "execute_result"
    }
   ],
   "source": [
    "pd.date_range(start='2023/1/1', periods=25, freq='M')"
   ]
  },
  {
   "cell_type": "markdown",
   "id": "99dfe724",
   "metadata": {},
   "source": [
    "# to_datetime function"
   ]
  },
  {
   "cell_type": "code",
   "execution_count": 56,
   "id": "d90d4474",
   "metadata": {},
   "outputs": [],
   "source": [
    "# simple series example\n",
    "\n",
    "s = pd.Series(['2023/01/01', '2023/09/11', '2021/01/01'])"
   ]
  },
  {
   "cell_type": "code",
   "execution_count": null,
   "id": "d91b4203",
   "metadata": {},
   "outputs": [],
   "source": []
  }
 ],
 "metadata": {
  "kernelspec": {
   "display_name": "Python 3 (ipykernel)",
   "language": "python",
   "name": "python3"
  },
  "language_info": {
   "codemirror_mode": {
    "name": "ipython",
    "version": 3
   },
   "file_extension": ".py",
   "mimetype": "text/x-python",
   "name": "python",
   "nbconvert_exporter": "python",
   "pygments_lexer": "ipython3",
   "version": "3.9.12"
  }
 },
 "nbformat": 4,
 "nbformat_minor": 5
}
