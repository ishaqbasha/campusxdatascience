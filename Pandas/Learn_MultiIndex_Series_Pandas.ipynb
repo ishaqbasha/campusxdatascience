{
 "cells": [
  {
   "cell_type": "code",
   "execution_count": 1,
   "id": "40210a11",
   "metadata": {},
   "outputs": [],
   "source": [
    "import numpy as np\n",
    "import pandas as pd"
   ]
  },
  {
   "cell_type": "markdown",
   "id": "a8cd41d5",
   "metadata": {},
   "source": [
    "## Series is 1D and DataFrames are 2D Objects\n",
    "\n",
    "###  But why"
   ]
  },
  {
   "cell_type": "code",
   "execution_count": null,
   "id": "26dbd6bd",
   "metadata": {},
   "outputs": [],
   "source": []
  }
 ],
 "metadata": {
  "kernelspec": {
   "display_name": "Python 3 (ipykernel)",
   "language": "python",
   "name": "python3"
  },
  "language_info": {
   "codemirror_mode": {
    "name": "ipython",
    "version": 3
   },
   "file_extension": ".py",
   "mimetype": "text/x-python",
   "name": "python",
   "nbconvert_exporter": "python",
   "pygments_lexer": "ipython3",
   "version": "3.9.12"
  }
 },
 "nbformat": 4,
 "nbformat_minor": 5
}
