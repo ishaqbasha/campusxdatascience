{
 "cells": [
  {
   "cell_type": "code",
   "execution_count": 1,
   "id": "17c2f0e2",
   "metadata": {},
   "outputs": [],
   "source": [
    "import numpy as np\n",
    "import pandas as pd"
   ]
  },
  {
   "cell_type": "code",
   "execution_count": 5,
   "id": "27317c10",
   "metadata": {},
   "outputs": [],
   "source": [
    "time1 = pd.Timestamp('06 jan 2023 at 8:16')\n",
    "time2 = pd.Timestamp('26 jan 2023')"
   ]
  },
  {
   "cell_type": "code",
   "execution_count": 6,
   "id": "9cd4dd95",
   "metadata": {},
   "outputs": [
    {
     "data": {
      "text/plain": [
       "Timedelta('19 days 15:44:00')"
      ]
     },
     "execution_count": 6,
     "metadata": {},
     "output_type": "execute_result"
    }
   ],
   "source": [
    "time2-time1"
   ]
  },
  {
   "cell_type": "code",
   "execution_count": 7,
   "id": "35c2e94e",
   "metadata": {},
   "outputs": [
    {
     "data": {
      "text/plain": [
       "Timedelta('-20 days +08:16:00')"
      ]
     },
     "execution_count": 7,
     "metadata": {},
     "output_type": "execute_result"
    }
   ],
   "source": [
    "time1-time2"
   ]
  },
  {
   "cell_type": "code",
   "execution_count": 8,
   "id": "4fb078db",
   "metadata": {},
   "outputs": [],
   "source": [
    "# time delta"
   ]
  },
  {
   "cell_type": "code",
   "execution_count": 10,
   "id": "266f9548",
   "metadata": {},
   "outputs": [],
   "source": [
    "d1 = pd.DatetimeIndex(['2023-12-12'])"
   ]
  },
  {
   "cell_type": "code",
   "execution_count": 16,
   "id": "fba8579f",
   "metadata": {},
   "outputs": [],
   "source": [
    "t2 = pd.Series(index=d1, data = 1)"
   ]
  },
  {
   "cell_type": "markdown",
   "id": "c4e203f3",
   "metadata": {},
   "source": [
    "## "
   ]
  },
  {
   "cell_type": "code",
   "execution_count": 14,
   "id": "83fe959c",
   "metadata": {},
   "outputs": [
    {
     "data": {
      "text/plain": [
       "2023-12-12    1\n",
       "dtype: int64"
      ]
     },
     "execution_count": 14,
     "metadata": {},
     "output_type": "execute_result"
    }
   ],
   "source": [
    "t2"
   ]
  },
  {
   "cell_type": "code",
   "execution_count": 17,
   "id": "ec65f749",
   "metadata": {},
   "outputs": [
    {
     "data": {
      "text/plain": [
       "1"
      ]
     },
     "execution_count": 17,
     "metadata": {},
     "output_type": "execute_result"
    }
   ],
   "source": [
    "t2.loc['12 Dec 2023']"
   ]
  },
  {
   "cell_type": "code",
   "execution_count": null,
   "id": "624536ba",
   "metadata": {},
   "outputs": [],
   "source": []
  }
 ],
 "metadata": {
  "kernelspec": {
   "display_name": "Python 3 (ipykernel)",
   "language": "python",
   "name": "python3"
  },
  "language_info": {
   "codemirror_mode": {
    "name": "ipython",
    "version": 3
   },
   "file_extension": ".py",
   "mimetype": "text/x-python",
   "name": "python",
   "nbconvert_exporter": "python",
   "pygments_lexer": "ipython3",
   "version": "3.9.12"
  }
 },
 "nbformat": 4,
 "nbformat_minor": 5
}
